{
 "cells": [
  {
   "cell_type": "code",
   "execution_count": 8,
   "metadata": {},
   "outputs": [],
   "source": [
    "import numpy as np\n",
    "import json\n",
    "from sklearn.decomposition import PCA\n",
    "from matplotlib import pyplot as plt"
   ]
  },
  {
   "cell_type": "code",
   "execution_count": 9,
   "metadata": {},
   "outputs": [],
   "source": [
    "rp = [0.3, 0.3, 0.4]\n",
    "dp = [0.2, 0.2, 0.2, 0.3, 0.1]\n",
    "\n",
    "nr_cls = len(rp)\n",
    "nd_cls = len(dp)\n",
    "d_r = 128\n",
    "d_o = 64\n",
    "\n",
    "rm = np.random.random([nr_cls, d_r])*10\n",
    "rv = np.random.random([nr_cls, d_r])*5\n",
    "dm = np.random.random([nd_cls, d_o])*10\n",
    "dv = np.random.random([nd_cls, d_o])*5\n",
    "\n",
    "n = 10000"
   ]
  },
  {
   "cell_type": "code",
   "execution_count": 10,
   "metadata": {},
   "outputs": [],
   "source": [
    "gmix_data = {}\n",
    "data = []\n",
    "R = []\n",
    "D = []\n",
    "R_label = []\n",
    "D_label = []\n",
    "\n",
    "for i in range(n):\n",
    "    r_cls = np.random.choice(np.arange(nr_cls), p=rp)\n",
    "    d_cls = np.random.choice(np.arange(nd_cls), p=dp)\n",
    "    \n",
    "    y = np.zeros(nd_cls)\n",
    "    if r_cls == 0:\n",
    "        y = np.random.normal([1000, 500, 100, 700, 2000], [100, 50, 10, 70, 200])\n",
    "    elif r_cls == 1:\n",
    "        y = np.random.normal([100, 300, 500, 700, 1000], [10, 30, 50, 70, 100])\n",
    "    else:\n",
    "        y = np.random.normal([300, 1000, 2000, 500, 100], [30, 100, 200, 50, 10])\n",
    "#     if r_cls % 2 == 0:\n",
    "#         y = np.random.normal([1000, 100, 1000, 100, 1000], [100, 10, 100, 10, 100])\n",
    "#     else:\n",
    "#         y = np.random.normal([100, 1000, 100, 1000, 100], [10, 100, 10, 100, 10])\n",
    "    \n",
    "    r = np.random.normal(rm[r_cls], rv[r_cls])\n",
    "    d = np.random.normal(dm[d_cls], dv[d_cls])\n",
    "    \n",
    "    R.append(r)\n",
    "    R_label.append(r_cls)\n",
    "    D.append(d)\n",
    "    D_label.append(d_cls)\n",
    "        \n",
    "    data.append(list(d) + list(r) + list(y) + [int(d_cls)])\n",
    "    \n",
    "    \n",
    "R = np.array(R)\n",
    "D = np.array(D)\n",
    "\n",
    "gmix_data['donor_dim'] = d_o\n",
    "gmix_data['recipient_dim'] = d_r\n",
    "gmix_data['recipientID_col'] = d_o - 1\n",
    "gmix_data['fully_observed'] = 1\n",
    "gmix_data['n_class'] = nd_cls\n",
    "\n",
    "gmix_data['data'] = data\n",
    "gmix_data['size'] = n\n",
    "\n",
    "with open('./data/gmix1.json', 'w+', encoding='utf8') as f:\n",
    "    f.write(json.dumps(gmix_data, ensure_ascii=False))"
   ]
  },
  {
   "cell_type": "code",
   "execution_count": 11,
   "metadata": {},
   "outputs": [],
   "source": [
    "colors = [(0, 0, 0), (1, 0, 0), (0, 1, 0), (0, 0, 1), (1, 1, 0)]\n",
    "\n",
    "def plot_cluster(kmeansdata, label_list, num_cluster):\n",
    "    pca = PCA(2)\n",
    "    pca.fit(kmeansdata)\n",
    "    users_2d = pca.transform(kmeansdata)\n",
    "\n",
    "    plt.figure()\n",
    "    plt.xlim([users_2d[:, 0].min() - 10, users_2d[:, 0].max() + 10])\n",
    "    plt.ylim([users_2d[:, 1].min() - 10, users_2d[:, 1].max() + 10])\n",
    "\n",
    "\n",
    "    # Plotting only the points whose centers were plotted\n",
    "    # Points are represented as a small '+' marker\n",
    "    for i, position in enumerate(label_list):\n",
    "        plt.scatter(users_2d[i, 0], users_2d[i, 1] , marker='+' , c=[colors[position]])\n",
    "\n",
    "    return"
   ]
  },
  {
   "cell_type": "code",
   "execution_count": 12,
   "metadata": {},
   "outputs": [
    {
     "data": {
      "image/png": "[encoded data removed]",
      "text/plain": [
       "<Figure size 432x288 with 1 Axes>"
      ]
     },
     "metadata": {
      "needs_background": "light"
     },
     "output_type": "display_data"
    }
   ],
   "source": [
    "plot_cluster(R, R_label, nr_cls)"
   ]
  },
  {
   "cell_type": "code",
   "execution_count": 13,
   "metadata": {},
   "outputs": [
    {
     "data": {
      "image/png": "[encoded data removed]",
      "text/plain": [
       "<Figure size 432x288 with 1 Axes>"
      ]
     },
     "metadata": {
      "needs_background": "light"
     },
     "output_type": "display_data"
    }
   ],
   "source": [
    "plot_cluster(D, D_label, nd_cls)"
   ]
  },
  {
   "cell_type": "code",
   "execution_count": null,
   "metadata": {},
   "outputs": [],
   "source": []
  }
 ],
 "metadata": {
  "kernelspec": {
   "display_name": "Python 3",
   "language": "python",
   "name": "python3"
  },
  "language_info": {
   "codemirror_mode": {
    "name": "ipython",
    "version": 3
   },
   "file_extension": ".py",
   "mimetype": "text/x-python",
   "name": "python",
   "nbconvert_exporter": "python",
   "pygments_lexer": "ipython3",
   "version": "3.7.4"
  },
  "toc": {
   "base_numbering": 1,
   "nav_menu": {},
   "number_sections": true,
   "sideBar": true,
   "skip_h1_title": false,
   "title_cell": "Table of Contents",
   "title_sidebar": "Contents",
   "toc_cell": false,
   "toc_position": {},
   "toc_section_display": true,
   "toc_window_display": false
  }
 },
 "nbformat": 4,
 "nbformat_minor": 2
}
