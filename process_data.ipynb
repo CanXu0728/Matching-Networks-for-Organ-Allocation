{
 "cells": [
  {
   "cell_type": "code",
   "execution_count": 1,
   "metadata": {},
   "outputs": [],
   "source": [
    "import xlrd\n",
    "import json"
   ]
  },
  {
   "cell_type": "code",
   "execution_count": 2,
   "metadata": {},
   "outputs": [],
   "source": [
    "data_path = './data/transplant_paired.xlsx'"
   ]
  },
  {
   "cell_type": "code",
   "execution_count": 3,
   "metadata": {},
   "outputs": [],
   "source": [
    "wb = xlrd.open_workbook(data_path)\n",
    "sheet = wb.sheet_by_index(0)"
   ]
  },
  {
   "cell_type": "code",
   "execution_count": 4,
   "metadata": {},
   "outputs": [],
   "source": [
    "small_data = {}\n",
    "\n",
    "ddim = 28\n",
    "rid_col = 28\n",
    "rdim = 55\n",
    "\n",
    "small_data['donor_dim'] = ddim\n",
    "small_data['recipient_dim'] = rdim\n",
    "small_data['recipientID_col'] = rid_col\n",
    "\n",
    "count = 0\n",
    "data = []\n",
    "for i in range(1, sheet.nrows):\n",
    "    row = sheet.row_values(i)\n",
    "    if '' not in row and -100 != row[-1]:\n",
    "        count += 1\n",
    "        data.append(row)\n",
    "        \n",
    "small_data['data'] = data\n",
    "small_data['size'] = count\n",
    "        \n",
    "with open('./data/paired_small.json', 'w+', encoding='utf8') as f:\n",
    "    f.write(json.dumps(small_data, ensure_ascii=False))"
   ]
  },
  {
   "cell_type": "code",
   "execution_count": null,
   "metadata": {},
   "outputs": [],
   "source": []
  }
 ],
 "metadata": {
  "kernelspec": {
   "display_name": "Python 3",
   "language": "python",
   "name": "python3"
  },
  "language_info": {
   "codemirror_mode": {
    "name": "ipython",
    "version": 3
   },
   "file_extension": ".py",
   "mimetype": "text/x-python",
   "name": "python",
   "nbconvert_exporter": "python",
   "pygments_lexer": "ipython3",
   "version": "3.7.4"
  },
  "toc": {
   "base_numbering": 1,
   "nav_menu": {},
   "number_sections": true,
   "sideBar": true,
   "skip_h1_title": false,
   "title_cell": "Table of Contents",
   "title_sidebar": "Contents",
   "toc_cell": false,
   "toc_position": {},
   "toc_section_display": true,
   "toc_window_display": false
  }
 },
 "nbformat": 4,
 "nbformat_minor": 2
}
